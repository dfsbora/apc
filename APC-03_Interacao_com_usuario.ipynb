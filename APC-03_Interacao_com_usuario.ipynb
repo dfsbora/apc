{
  "cells":[
    {
      "cell_type":"markdown",
      "source":[
        "# Interação com o Usuário"
      ],
      "attachments":{
        
      },
      "metadata":{
        
      }
    },
    {
      "cell_type":"markdown",
      "source":[
        "## Módulo sys\n",
        "\n",
        "módulo relacionado ao ambiente de execução"
      ],
      "attachments":{
        
      },
      "metadata":{
        
      }
    },
    {
      "cell_type":"code",
      "source":[
        "import sys\n",
        "\n",
        "print(sys.platform)        #Sistema Operacional\n",
        "\n",
        "pyversion = sys.version    #Versão do Python\n",
        "print(pyversion)\n",
        "\n",
        "print(sys.version_info)\n",
        "print(sys.version_info.major)\n",
        "\n",
        "print(sys.path)\n",
        "#sys.exit(1)"
      ],
      "execution_count":13,
      "outputs":[
        
      ],
      "metadata":{
        
      }
    },
    {
      "cell_type":"code",
      "source":[
        "# iteratividade x automatizacao\n",
        "#sys.argv"
      ],
      "execution_count":0,
      "outputs":[
        
      ],
      "metadata":{
        
      }
    },
    {
      "cell_type":"markdown",
      "source":[
        "\n",
        "https:\/\/docs.python.org\/3\/library\/sys.html\n",
        "\n",
        "sys.stdin\n",
        "\n",
        "sys.stdout"
      ],
      "attachments":{
        
      },
      "metadata":{
        
      }
    },
    {
      "cell_type":"markdown",
      "source":[
        "## Print\n",
        "\n",
        "`print(*objects, sep=' ', end='\\n', file=sys.stdout, flush=False)`\n",
        "\n",
        "\n",
        "https:\/\/docs.python.org\/3\/library\/functions.html#print"
      ],
      "attachments":{
        
      },
      "metadata":{
        
      }
    },
    {
      "cell_type":"code",
      "source":[
        "import time\n",
        "\n",
        "for _ in range(5):\n",
        "    print('.', end='', flush=True)\n",
        "    time.sleep(0.5)\n",
        "print(' Pronto!')"
      ],
      "execution_count":0,
      "outputs":[
        
      ],
      "metadata":{
        
      }
    },
    {
      "cell_type":"markdown",
      "source":[
        "## Input\n",
        "\n",
        "https:\/\/www.w3schools.com\/python\/ref_func_input.asp"
      ],
      "attachments":{
        
      },
      "metadata":{
        
      }
    },
    {
      "cell_type":"code",
      "source":[
        "#casting\n",
        "\n",
        "tarifa_basica = 3.0\n",
        "tarifa_extra = 0.05\n",
        "\n",
        "#extra = float(input(\"valor(km): \"))\n",
        "#print(\"total: \", tarifa_basica+extra)\n",
        "\n",
        "texto = input(\"digite: \")\n",
        "\n",
        "print(\"texto: \", eval(texto))"
      ],
      "execution_count":27,
      "outputs":[
        
      ],
      "metadata":{
        
      }
    },
    {
      "cell_type":"code",
      "source":[
        "# try except\n",
        "# divisao por 0\n",
        "eval?"
      ],
      "execution_count":21,
      "outputs":[
        
      ],
      "metadata":{
        
      }
    },
    {
      "cell_type":"markdown",
      "source":[
        "### Python 2\n",
        "raw_input()\n",
        "input()\n",
        "\n",
        "### Python 3\n",
        "input()\n",
        "eval()"
      ],
      "attachments":{
        
      },
      "metadata":{
        
      }
    },
    {
      "cell_type":"code",
      "source":[
        "import sys\n",
        "\n",
        "version = sys.version_info.major\n",
        "system = sys.platform\n",
        "\n",
        "if system != \"linux\":\n",
        "    sys.exit()\n",
        "\n",
        "if version == 2:\n",
        "    texto = raw_input(\"digite: \")\n",
        "    print(\"oi\", texto)\n",
        "\n",
        "elif version ==3:\n",
        "    texto = input(\"digite: \")\n",
        "    print(\"oi\", texto)"
      ],
      "execution_count":30,
      "outputs":[
        
      ],
      "metadata":{
        
      }
    },
    {
      "cell_type":"code",
      "source":[
        
      ],
      "execution_count":0,
      "outputs":[
        
      ],
      "metadata":{
        
      }
    }
  ],
  "metadata":{
    
  },
  "nbformat":4,
  "nbformat_minor":0
}