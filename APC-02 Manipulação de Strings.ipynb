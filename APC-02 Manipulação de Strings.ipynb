{
  "cells":[
    {
      "cell_type":"markdown",
      "source":[
        "# Manipulação de Strings\n",
        "\n",
        "## Verificar\n",
        "- Prova teórica? Só trabalhos?\n",
        "- Prof apresentou métodos?\n",
        "- https:\/\/www.amazon.com.br\/Programming-Manuscripts-Python-Beginners-English-ebook\/dp\/B07JHYGTQR\/ref=pd_rhf_gw_s_wsixn_v2_1\/136-8736059-6519264?pd_rd_w=eS3PS&pf_rd_p=30746c9c-f4d3-48e6-b597-a65d89ffaec3&pf_rd_r=DHKXKYYH7K9F4QXXBXE0&pd_rd_r=cbac6cbe-6b4c-4c0e-a021-1d63459d0996&pd_rd_wg=Emxeb&pd_rd_i=B07JHYGTQR&psc=1\n",
        "\n",
        "## Métodos\n",
        "- Muitos métodos disponíveis para realizar operações de strings\n",
        "- Realizar modificação e guardar em variável\n",
        "- Pesquisar o método que realizada determinada ação\n",
        "    - exemplo: https:\/\/www.w3schools.com\/python\/ref_string_find.asp\n",
        "\n",
        "## Resolução\n",
        "- Quebrar problema em tratamento da entrada, solução mínima e aprimoramento da resolução."
      ],
      "attachments":{
        
      },
      "metadata":{
        
      }
    },
    {
      "cell_type":"code",
      "source":[
        "# Find first word of string \n",
        "# . , space\n",
        "\n",
        "text = input(\"Digite a string: \")\n",
        "text = text.replace(\".\",\" \")\n",
        "text = text.replace(\",\",\" \")\n",
        "text = text.split()                         #By default any whitespace is a separator\n",
        "print(\"Primeira palavra: \", text[0])"
      ],
      "execution_count":22,
      "outputs":[
        {
          "name":"stdout",
          "text":[
            "Digite a string:  Lorem. ipsum\n",
            "Primeira palavra:  Lorem\n"
          ],
          "output_type":"stream"
        }
      ],
      "metadata":{
        
      }
    },
    {
      "cell_type":"code",
      "source":[
        "# Backward Each Word\n",
        "\n",
        "text = input(\"Digite a string: \")\n",
        "text = text.split(\" \")\n",
        "\n",
        "\n",
        "new_text = []\n",
        "for word in text:\n",
        "    word = word[::-1]\n",
        "    new_text.append(word)\n",
        "print(new_text)\n",
        "\n",
        "divider = \" \"    \n",
        "new_text = divider.join(new_text)\n",
        "print(\"Texto invertido:\", new_text)"
      ],
      "execution_count":11,
      "outputs":[
        {
          "name":"stdout",
          "text":[
            "Digite a string:  hello      world\n",
            "['olleh', '', '', '', '', '', 'dlrow']\n",
            "Texto invertido: olleh      dlrow\n"
          ],
          "output_type":"stream"
        }
      ],
      "metadata":{
        
      }
    },
    {
      "cell_type":"code",
      "source":[
        "# Second index\n",
        "\n",
        "# https:\/\/www.w3schools.com\/python\/ref_string_find.asp\n",
        "\n",
        "text = input(\"Digite a string principal: \")\n",
        "key = input(\"Digite a chave a ser buscada: \")\n",
        "\n",
        "# primeira resolucao\n",
        "first = text.find(key)\n",
        "second = text.find(key, first+1, -1)\n",
        "print(\"Primeira ocorrência: \", first)\n",
        "print(\"Segunda ocorrência: \", second)\n",
        "\n",
        "# uso de if else\n",
        "first = text.find(key)\n",
        "if first != -1:\n",
        "    print(\"Primeira ocorrência: \", first)\n",
        "    second = text.find(key, first+1, len(text))\n",
        "    if second != -1:\n",
        "        print(\"Segunda ocorrência: \", second)\n",
        "    else:\n",
        "        print(\"Chave ocorre apenas uma vez\")\n",
        "else:\n",
        "    print(\"Chave não encontrada\")"
      ],
      "execution_count":13,
      "outputs":[
        {
          "name":"stdout",
          "text":[
            "Digite a string principal:  sims\n",
            "Digite a chave a ser buscada:  s\n",
            "Primeira ocorrência:  0\n",
            "Segunda ocorrência:  -1\n",
            "Primeira ocorrência:  0\n",
            "Segunda ocorrência:  3\n"
          ],
          "output_type":"stream"
        }
      ],
      "metadata":{
        
      }
    },
    {
      "cell_type":"code",
      "source":[
        "# Time system\n",
        "\n",
        "# 9:00  13:30 16:45\n",
        "\n",
        "# input, separar horas e minutos\n",
        "# tratar horas\n",
        "# ajustar flag\n",
        "\n",
        "time = input(\"Digite o horário: \")\n",
        "time = time.split(\":\")\n",
        "hours = int(time[0])\n",
        "minutes = int(time[1]) \n",
        "flag = \"a.m.\"\n",
        "\n",
        "if hours > 12:\n",
        "    hours = hours - 12\n",
        "    flag = \"p.m.\"\n",
        "print(f\"{hours}:{minutes} {flag}\")"
      ],
      "execution_count":38,
      "outputs":[
        {
          "name":"stdout",
          "text":[
            "Digite o horário:  09:23\n",
            "9:23 am\n"
          ],
          "output_type":"stream"
        }
      ],
      "metadata":{
        
      }
    },
    {
      "cell_type":"code",
      "source":[
        "#Between Markers\n",
        "\n",
        "text = input(\"Digite a string principal: \")\n",
        "begin = input(\"Digite o marcador inicial: \")\n",
        "end = input(\"Digite o marcador final: \")\n",
        "\n",
        "\n",
        "# 1 2 \n",
        "# xxx1.........\n",
        "#   2\n",
        "# \n",
        "\n",
        "begin_pos = text.find(begin)\n",
        "if begin_pos != -1:   \n",
        "    end_pos = text.find(end, begin_pos+1, len(text))\n",
        "    if end_pos != -1:\n",
        "        print(\"Trecho: \", text[begin_pos+1:end_pos])\n",
        "    else:\n",
        "        # end_pos == -1\n",
        "        print(\"Trecho: \", text[begin_pos+1: XXXX])\n",
        "\n",
        "else:   \n",
        "    end_pos = text.find(end)\n",
        "    if end_pos != -1:\n",
        "        print(\"Trecho: \", text[COMEÇO : end_pos])\n",
        "    else:\n",
        "        print(\"\")\n",
        "\n",
        "\n",
        "print(\"Trecho: \", text[init_pos+1:final_pos])"
      ],
      "execution_count":41,
      "outputs":[
        {
          "name":"stdout",
          "text":[
            "Digite a string principal:  sa d da ds f edas\n",
            "Digite o marcador inicial:   \n",
            "Digite o marcador final:  d\n",
            "Trecho:  \n"
          ],
          "output_type":"stream"
        }
      ],
      "metadata":{
        
      }
    },
    {
      "cell_type":"code",
      "source":[
        "# Split pairs\n",
        "\n",
        "text = input(\"Digite a string: \")\n",
        "\n",
        "if len(text) % 2:\n",
        "    text= text + \"_\"\n",
        "\n",
        "text_list = []\n",
        "for i in range(len(text)\/\/2):\n",
        "    text_list.append(text[2*i:2*i+2])\n",
        "\n",
        "print(text_list)"
      ],
      "execution_count":50,
      "outputs":[
        {
          "name":"stdout",
          "text":[
            "Digite a string:  abcde\n",
            "['ab', 'cd', 'e_']\n"
          ],
          "output_type":"stream"
        }
      ],
      "metadata":{
        
      }
    },
    {
      "cell_type":"code",
      "source":[
        "# Beginning zeros\n",
        "# 100100\n",
        "\n",
        "text = input(\"Digite a string: \")\n",
        "\n",
        "counter = 0\n",
        "for char in text:\n",
        "    if char != '0':\n",
        "        break\n",
        "    counter += 1\n",
        "print(counter)"
      ],
      "execution_count":54,
      "outputs":[
        {
          "name":"stdout",
          "text":[
            "Digite a string:  00102002\n",
            "2\n"
          ],
          "output_type":"stream"
        }
      ],
      "metadata":{
        
      }
    },
    {
      "cell_type":"code",
      "source":[
        "# Correct Sentence\n",
        "\n",
        "# \"greetings, friends\"\n",
        "\n",
        "text = input(\"Digite a string: \")\n",
        "\n",
        "if text[-1] != '.':\n",
        "    text = text + '.'\n",
        "if not text[0].isupper():\n",
        "    text = text.capitalize()\n",
        "    \n",
        "print(text)"
      ],
      "execution_count":62,
      "outputs":[
        {
          "name":"stdout",
          "text":[
            "Digite a string:  Friends.\n",
            "Friends.\n"
          ],
          "output_type":"stream"
        }
      ],
      "metadata":{
        
      }
    },
    {
      "cell_type":"code",
      "source":[
        "# Morse\n",
        "# Secret Message"
      ],
      "execution_count":55,
      "outputs":[
        
      ],
      "metadata":{
        
      }
    },
    {
      "cell_type":"code",
      "source":[
        
      ],
      "execution_count":0,
      "outputs":[
        
      ],
      "metadata":{
        
      }
    }
  ],
  "metadata":{
    
  },
  "nbformat":4,
  "nbformat_minor":0
}